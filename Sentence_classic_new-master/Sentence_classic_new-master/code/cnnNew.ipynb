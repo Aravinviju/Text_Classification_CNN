{
 "cells": [
  {
   "cell_type": "code",
   "execution_count": 19,
   "metadata": {},
   "outputs": [
    {
     "name": "stdout",
     "output_type": "stream",
     "text": [
      "[name: \"/device:CPU:0\"\n",
      "device_type: \"CPU\"\n",
      "memory_limit: 268435456\n",
      "locality {\n",
      "}\n",
      "incarnation: 17671537360288316268\n",
      ", name: \"/device:GPU:0\"\n",
      "device_type: \"GPU\"\n",
      "memory_limit: 170459136\n",
      "locality {\n",
      "  bus_id: 1\n",
      "}\n",
      "incarnation: 9493394957667786037\n",
      "physical_device_desc: \"device: 0, name: GeForce GTX 1080 Ti, pci bus id: 0000:65:00.0, compute capability: 6.1\"\n",
      ", name: \"/device:GPU:1\"\n",
      "device_type: \"GPU\"\n",
      "memory_limit: 338231296\n",
      "locality {\n",
      "  bus_id: 1\n",
      "}\n",
      "incarnation: 13832129856767949179\n",
      "physical_device_desc: \"device: 1, name: GeForce GTX 1080 Ti, pci bus id: 0000:b3:00.0, compute capability: 6.1\"\n",
      "]\n"
     ]
    }
   ],
   "source": [
    "import os\n",
    "# os.environ[\"CUDA_DEVICE_ORDER\"]=\"PCI_BUS_ID\"   # see issue #152\n",
    "os.environ[\"CUDA_VISIBLE_DEVICES\"]=\"2,3\"\n",
    "\n",
    "from tensorflow.python.client import device_lib\n",
    "print (device_lib.list_local_devices())"
   ]
  },
  {
   "cell_type": "code",
   "execution_count": 1,
   "metadata": {},
   "outputs": [
    {
     "name": "stderr",
     "output_type": "stream",
     "text": [
      "C:\\Users\\Aravindhan.Poopathy\\AppData\\Local\\Continuum\\anaconda3\\lib\\site-packages\\h5py\\__init__.py:36: FutureWarning: Conversion of the second argument of issubdtype from `float` to `np.floating` is deprecated. In future, it will be treated as `np.float64 == np.dtype(float).type`.\n",
      "  from ._conv import register_converters as _register_converters\n",
      "Using TensorFlow backend.\n"
     ]
    }
   ],
   "source": [
    "from __future__ import print_function\n",
    "import numpy as np\n",
    "np.random.seed(1337)  # for reproducibility\n",
    "\n",
    "\n",
    "import gzip\n",
    "import sys\n",
    "if (sys.version_info > (3, 0)):\n",
    "    import pickle as pkl\n",
    "else: #Python 2.7 imports\n",
    "    \n",
    "    import cPickle as pkl\n",
    "\n",
    "import keras\n",
    "from keras.models import Model\n",
    "from keras.layers import Input, Dense, Dropout, Activation, Flatten, concatenate\n",
    "from keras.layers import Embedding\n",
    "from keras.layers import Convolution1D, MaxPooling1D, GlobalMaxPooling1D\n",
    "from keras.regularizers import Regularizer\n",
    "from keras.preprocessing import sequence\n",
    "import matplotlib.pyplot as plt"
   ]
  },
  {
   "cell_type": "code",
   "execution_count": 2,
   "metadata": {},
   "outputs": [],
   "source": [
    "from keras.utils import to_categorical"
   ]
  },
  {
   "cell_type": "code",
   "execution_count": 3,
   "metadata": {},
   "outputs": [],
   "source": [
    "def wordIdxLookup(word, word_idx_map):\n",
    "    if word in word_idx_map:\n",
    "        return word_idx_map[word]"
   ]
  },
  {
   "cell_type": "code",
   "execution_count": 4,
   "metadata": {},
   "outputs": [
    {
     "name": "stdout",
     "output_type": "stream",
     "text": [
      "data loaded!\n"
     ]
    }
   ],
   "source": [
    "data = pkl.load(gzip.open(\"C:/Users/Aravindhan.Poopathy/OneDrive - So Energy/Arav/Sentence_classic_new-master/Sentence_classic_new-master/code/soeMailData/pkl/maildata.pkl.gz\",\"rb\"))\n",
    "print(\"data loaded!\")"
   ]
  },
  {
   "cell_type": "code",
   "execution_count": 56,
   "metadata": {},
   "outputs": [],
   "source": [
    "train_labels = data['train']['labels']\n",
    "train_sentences = data['train']['sentences']\n",
    "\n",
    "dev_labels = data['dev']['labels']\n",
    "dev_sentences = data['dev']['sentences']\n",
    "\n",
    "test_labels = data['test']['labels']\n",
    "test_sentences = data['test']['sentences']\n",
    "\n",
    "word_embeddings = data['wordEmbeddings']"
   ]
  },
  {
   "cell_type": "code",
   "execution_count": 57,
   "metadata": {},
   "outputs": [
    {
     "name": "stdout",
     "output_type": "stream",
     "text": [
      "Longest sentence: 704\n"
     ]
    }
   ],
   "source": [
    "# :: Find the longest sentence in our dataset ::\n",
    "max_sentence_len = 0\n",
    "for sentence in train_sentences + dev_sentences + test_sentences:\n",
    "    max_sentence_len = max(len(sentence), max_sentence_len)\n",
    "\n",
    "print(\"Longest sentence: %d\" % max_sentence_len)"
   ]
  },
  {
   "cell_type": "code",
   "execution_count": 58,
   "metadata": {},
   "outputs": [
    {
     "name": "stdout",
     "output_type": "stream",
     "text": [
      "X_train shape: (8094, 704)\n",
      "X_dev shape: (4047, 704)\n",
      "X_test shape: (4048, 704)\n"
     ]
    }
   ],
   "source": [
    "y_train = np.array(train_labels)\n",
    "y_dev = np.array(dev_labels)\n",
    "y_test = np.array(test_labels)\n",
    "\n",
    "X_train = sequence.pad_sequences(train_sentences, maxlen=max_sentence_len)\n",
    "X_dev = sequence.pad_sequences(dev_sentences, maxlen=max_sentence_len)\n",
    "X_test = sequence.pad_sequences(test_sentences, maxlen=max_sentence_len)\n",
    "\n",
    "\n",
    "print('X_train shape:', X_train.shape)\n",
    "print('X_dev shape:', X_dev.shape)\n",
    "print('X_test shape:', X_test.shape)"
   ]
  },
  {
   "cell_type": "code",
   "execution_count": 25,
   "metadata": {},
   "outputs": [],
   "source": [
    "# #Change to float datatype:\n",
    "# X_train = X_train.astype('float32')\n",
    "# X_dev = X_dev.astype('float32')\n",
    "# X_test = X_test.astype('float32')"
   ]
  },
  {
   "cell_type": "code",
   "execution_count": 26,
   "metadata": {},
   "outputs": [],
   "source": [
    "# #Scale the data to lie between 0 to 1\n",
    "# X_train /= 255\n",
    "# X_dev /= 255\n",
    "# X_test /= 255"
   ]
  },
  {
   "cell_type": "code",
   "execution_count": 59,
   "metadata": {},
   "outputs": [
    {
     "name": "stdout",
     "output_type": "stream",
     "text": [
      "output clases :  [0 1 2 3 4]\n",
      "total number of output classes :  5\n"
     ]
    }
   ],
   "source": [
    "import numpy as np\n",
    "# labels = y_train.tolist() + y_dev.tolist() + y_test.tolist()\n",
    "classes = np.unique(y_train)\n",
    "nclasses = len(classes)\n",
    "print('output clases : ', classes)\n",
    "print('total number of output classes : ', nclasses)"
   ]
  },
  {
   "cell_type": "code",
   "execution_count": 60,
   "metadata": {},
   "outputs": [],
   "source": [
    "#converting the labels as one hot variables:\n",
    "y_train_one_hot = to_categorical(y_train,nclasses)\n",
    "y_dev_one_hot = to_categorical(y_dev,nclasses)\n",
    "y_test_one_hot = to_categorical(y_test,nclasses)"
   ]
  },
  {
   "cell_type": "code",
   "execution_count": 61,
   "metadata": {},
   "outputs": [
    {
     "name": "stdout",
     "output_type": "stream",
     "text": [
      "Original label 0 :  2\n",
      "After conversion to categorical ( one-hot ) :  [0. 0. 1. 0. 0.]\n"
     ]
    }
   ],
   "source": [
    "# Display the change for category label using one-hot encoding# Displa \n",
    "print('Original label 0 : ', y_train[0])\n",
    "print('After conversion to categorical ( one-hot ) : ', y_train_one_hot[0])"
   ]
  },
  {
   "cell_type": "code",
   "execution_count": 84,
   "metadata": {},
   "outputs": [
    {
     "name": "stdout",
     "output_type": "stream",
     "text": [
      "Build model...\n"
     ]
    }
   ],
   "source": [
    "#  :: Create the network :: \n",
    "\n",
    "print('Build model...')\n",
    "\n",
    "# set parameters:\n",
    "batch_size = 50\n",
    "\n",
    "nb_filter = 50\n",
    "filter_lengths = [1,2,3]\n",
    "hidden_dims = 100\n",
    "nb_epoch = 30\n",
    "\n",
    "\n",
    "\n",
    "words_input = Input(shape=(max_sentence_len,), dtype='int32', name='words_input')"
   ]
  },
  {
   "cell_type": "code",
   "execution_count": 85,
   "metadata": {},
   "outputs": [
    {
     "data": {
      "text/plain": [
       "[<tf.Tensor 'words_input_4:0' shape=(?, 704) dtype=int32>]"
      ]
     },
     "execution_count": 85,
     "metadata": {},
     "output_type": "execute_result"
    }
   ],
   "source": [
    "[words_input]\n",
    "# word_embeddings.shape[1]"
   ]
  },
  {
   "cell_type": "code",
   "execution_count": 86,
   "metadata": {},
   "outputs": [],
   "source": [
    "#Our word embedding layer\n",
    "wordsEmbeddingLayer = Embedding(word_embeddings.shape[0],\n",
    "                    word_embeddings.shape[1],                                     \n",
    "                    weights=[word_embeddings],\n",
    "                    trainable=False)\n",
    "\n",
    "words = wordsEmbeddingLayer(words_input)\n"
   ]
  },
  {
   "cell_type": "code",
   "execution_count": 87,
   "metadata": {},
   "outputs": [
    {
     "data": {
      "text/plain": [
       "<tf.Tensor 'embedding_5/embedding_lookup:0' shape=(?, 704, 300) dtype=float32>"
      ]
     },
     "execution_count": 87,
     "metadata": {},
     "output_type": "execute_result"
    }
   ],
   "source": [
    "# wordsEmbeddingLayer\n",
    "words"
   ]
  },
  {
   "cell_type": "code",
   "execution_count": 88,
   "metadata": {},
   "outputs": [
    {
     "name": "stdout",
     "output_type": "stream",
     "text": [
      "__________________________________________________________________________________________________\n",
      "Layer (type)                    Output Shape         Param #     Connected to                     \n",
      "==================================================================================================\n",
      "words_input (InputLayer)        (None, 704)          0                                            \n",
      "__________________________________________________________________________________________________\n",
      "embedding_5 (Embedding)         (None, 704, 300)     2187000     words_input[0][0]                \n",
      "__________________________________________________________________________________________________\n",
      "conv1d_22 (Conv1D)              (None, 704, 50)      15050       embedding_5[0][0]                \n",
      "__________________________________________________________________________________________________\n",
      "conv1d_23 (Conv1D)              (None, 704, 50)      30050       embedding_5[0][0]                \n",
      "__________________________________________________________________________________________________\n",
      "conv1d_24 (Conv1D)              (None, 704, 50)      45050       embedding_5[0][0]                \n",
      "__________________________________________________________________________________________________\n",
      "global_max_pooling1d_22 (Global (None, 50)           0           conv1d_22[0][0]                  \n",
      "__________________________________________________________________________________________________\n",
      "global_max_pooling1d_23 (Global (None, 50)           0           conv1d_23[0][0]                  \n",
      "__________________________________________________________________________________________________\n",
      "global_max_pooling1d_24 (Global (None, 50)           0           conv1d_24[0][0]                  \n",
      "__________________________________________________________________________________________________\n",
      "concatenate_8 (Concatenate)     (None, 150)          0           global_max_pooling1d_22[0][0]    \n",
      "                                                                 global_max_pooling1d_23[0][0]    \n",
      "                                                                 global_max_pooling1d_24[0][0]    \n",
      "__________________________________________________________________________________________________\n",
      "dropout_15 (Dropout)            (None, 150)          0           concatenate_8[0][0]              \n",
      "__________________________________________________________________________________________________\n",
      "dense_15 (Dense)                (None, 100)          15100       dropout_15[0][0]                 \n",
      "__________________________________________________________________________________________________\n",
      "dropout_16 (Dropout)            (None, 100)          0           dense_15[0][0]                   \n",
      "__________________________________________________________________________________________________\n",
      "dense_16 (Dense)                (None, 5)            505         dropout_16[0][0]                 \n",
      "==================================================================================================\n",
      "Total params: 2,292,755\n",
      "Trainable params: 105,755\n",
      "Non-trainable params: 2,187,000\n",
      "__________________________________________________________________________________________________\n"
     ]
    }
   ],
   "source": [
    "#Now we add a variable number of convolutions\n",
    "words_convolutions = []\n",
    "for filter_length in filter_lengths:\n",
    "    words_conv = Convolution1D(filters=nb_filter,\n",
    "                            kernel_size=filter_length,\n",
    "                            padding='same',\n",
    "                            activation='relu',\n",
    "                            strides=1)(words)\n",
    "                            \n",
    "    words_conv = GlobalMaxPooling1D()(words_conv)      \n",
    "    \n",
    "    words_convolutions.append(words_conv)  \n",
    "\n",
    "output = concatenate(words_convolutions)\n",
    "\n",
    "\n",
    "\n",
    "# We add a vanilla hidden layer together with dropout layers:\n",
    "output = Dropout(0.5)(output)\n",
    "output = Dense(hidden_dims, activation='tanh', kernel_regularizer=keras.regularizers.l2(0.01))(output)\n",
    "output = Dropout(0.25)(output)\n",
    "\n",
    "\n",
    "# We project onto a single unit output layer, and squash it with a sigmoid:\n",
    "output = Dense(5, activation='softmax',  kernel_regularizer=keras.regularizers.l2(0.01))(output)\n",
    "\n",
    "model = Model(inputs=[words_input], outputs=[output])\n",
    "model.compile(loss='categorical_crossentropy', optimizer='adam', metrics=['accuracy'])\n",
    "\n",
    "model.summary()\n"
   ]
  },
  {
   "cell_type": "code",
   "execution_count": 89,
   "metadata": {},
   "outputs": [
    {
     "name": "stdout",
     "output_type": "stream",
     "text": [
      "Train on 8094 samples, validate on 4047 samples\n",
      "Epoch 1/30\n",
      "8094/8094 [==============================] - 86s 11ms/step - loss: 2.5430 - acc: 0.3216 - val_loss: 1.9347 - val_acc: 0.6504\n",
      "Epoch 2/30\n",
      "8094/8094 [==============================] - 91s 11ms/step - loss: 1.6745 - acc: 0.5703 - val_loss: 1.3059 - val_acc: 0.7102\n",
      "Epoch 3/30\n",
      "8094/8094 [==============================] - 82s 10ms/step - loss: 1.2322 - acc: 0.6723 - val_loss: 0.9926 - val_acc: 0.7850\n",
      "Epoch 4/30\n",
      "8094/8094 [==============================] - 84s 10ms/step - loss: 0.9882 - acc: 0.7314 - val_loss: 0.8134 - val_acc: 0.7981\n",
      "Epoch 5/30\n",
      "8094/8094 [==============================] - 87s 11ms/step - loss: 0.8697 - acc: 0.7566 - val_loss: 0.7304 - val_acc: 0.8080\n",
      "Epoch 6/30\n",
      "8094/8094 [==============================] - 89s 11ms/step - loss: 0.7885 - acc: 0.7755 - val_loss: 0.6888 - val_acc: 0.8070\n",
      "Epoch 7/30\n",
      "8094/8094 [==============================] - 90s 11ms/step - loss: 0.7410 - acc: 0.7908 - val_loss: 0.6424 - val_acc: 0.8228\n",
      "Epoch 8/30\n",
      "8094/8094 [==============================] - 84s 10ms/step - loss: 0.7027 - acc: 0.7979 - val_loss: 0.6258 - val_acc: 0.8273\n",
      "Epoch 9/30\n",
      "8094/8094 [==============================] - 87s 11ms/step - loss: 0.6783 - acc: 0.8065 - val_loss: 0.5951 - val_acc: 0.8340\n",
      "Epoch 10/30\n",
      "8094/8094 [==============================] - 85s 10ms/step - loss: 0.6626 - acc: 0.8068 - val_loss: 0.5832 - val_acc: 0.8315\n",
      "Epoch 11/30\n",
      "8094/8094 [==============================] - 82s 10ms/step - loss: 0.6371 - acc: 0.8121 - val_loss: 0.5844 - val_acc: 0.8255\n",
      "Epoch 12/30\n",
      "8094/8094 [==============================] - 80s 10ms/step - loss: 0.6226 - acc: 0.8216 - val_loss: 0.5727 - val_acc: 0.8342\n",
      "Epoch 13/30\n",
      "8094/8094 [==============================] - 81s 10ms/step - loss: 0.6080 - acc: 0.8296 - val_loss: 0.5565 - val_acc: 0.8347\n",
      "Epoch 14/30\n",
      "8094/8094 [==============================] - 87s 11ms/step - loss: 0.5938 - acc: 0.8335 - val_loss: 0.5568 - val_acc: 0.8349\n",
      "Epoch 15/30\n",
      "8094/8094 [==============================] - 85s 10ms/step - loss: 0.5840 - acc: 0.8367 - val_loss: 0.5478 - val_acc: 0.8391\n",
      "Epoch 16/30\n",
      "8094/8094 [==============================] - 84s 10ms/step - loss: 0.5768 - acc: 0.8368 - val_loss: 0.5337 - val_acc: 0.8374\n",
      "Epoch 17/30\n",
      "8094/8094 [==============================] - 82s 10ms/step - loss: 0.5610 - acc: 0.8438 - val_loss: 0.5267 - val_acc: 0.8404\n",
      "Epoch 18/30\n",
      "8094/8094 [==============================] - 80s 10ms/step - loss: 0.5509 - acc: 0.8515 - val_loss: 0.5233 - val_acc: 0.8389\n",
      "Epoch 19/30\n",
      "8094/8094 [==============================] - 81s 10ms/step - loss: 0.5512 - acc: 0.8501 - val_loss: 0.5182 - val_acc: 0.8500\n",
      "Epoch 20/30\n",
      "8094/8094 [==============================] - 85s 10ms/step - loss: 0.5419 - acc: 0.8511 - val_loss: 0.5166 - val_acc: 0.8537\n",
      "Epoch 21/30\n",
      "8094/8094 [==============================] - 92s 11ms/step - loss: 0.5313 - acc: 0.8593 - val_loss: 0.5034 - val_acc: 0.8512\n",
      "Epoch 22/30\n",
      "8094/8094 [==============================] - 85s 10ms/step - loss: 0.5198 - acc: 0.8666 - val_loss: 0.5077 - val_acc: 0.8525\n",
      "Epoch 23/30\n",
      "8094/8094 [==============================] - 86s 11ms/step - loss: 0.5166 - acc: 0.8669 - val_loss: 0.4955 - val_acc: 0.8500\n",
      "Epoch 24/30\n",
      "8094/8094 [==============================] - 95s 12ms/step - loss: 0.4991 - acc: 0.8710 - val_loss: 0.4986 - val_acc: 0.8668\n",
      "Epoch 25/30\n",
      "8094/8094 [==============================] - 89s 11ms/step - loss: 0.5066 - acc: 0.8711 - val_loss: 0.4889 - val_acc: 0.8621\n",
      "Epoch 26/30\n",
      "8094/8094 [==============================] - 89s 11ms/step - loss: 0.4912 - acc: 0.8821 - val_loss: 0.4875 - val_acc: 0.8503\n",
      "Epoch 27/30\n",
      "8094/8094 [==============================] - 86s 11ms/step - loss: 0.4862 - acc: 0.8803 - val_loss: 0.4893 - val_acc: 0.8609\n",
      "Epoch 28/30\n",
      "8094/8094 [==============================] - 85s 11ms/step - loss: 0.4803 - acc: 0.8883 - val_loss: 0.4844 - val_acc: 0.8648\n",
      "Epoch 29/30\n",
      "8094/8094 [==============================] - 87s 11ms/step - loss: 0.4599 - acc: 0.8983 - val_loss: 0.4821 - val_acc: 0.8569\n",
      "Epoch 30/30\n",
      "8094/8094 [==============================] - 84s 10ms/step - loss: 0.4632 - acc: 0.8937 - val_loss: 0.4887 - val_acc: 0.8569\n"
     ]
    }
   ],
   "source": [
    "# for epoch in range(nb_epoch):\n",
    "# print(\"\\n------------- Epoch %d ------------\" % (epoch+1))\n",
    "\n",
    "trModel = model.fit(X_train, y_train_one_hot, batch_size=batch_size, epochs=nb_epoch,\n",
    "          verbose=1,validation_data=(X_dev,y_dev_one_hot))\n"
   ]
  },
  {
   "cell_type": "code",
   "execution_count": 90,
   "metadata": {},
   "outputs": [
    {
     "name": "stdout",
     "output_type": "stream",
     "text": [
      "4047/4047 [==============================] - 14s 4ms/step\n",
      "4048/4048 [==============================] - 14s 3ms/step\n",
      "Val-Accuracy: 85.69% (loss: 0.4887)\n",
      "Test-Accuracy: 85.42% (loss: 0.4912)\n"
     ]
    }
   ],
   "source": [
    "#Use Keras to compute the loss and the accuracy\n",
    "dev_loss, dev_accuracy = model.evaluate(X_dev, y_dev_one_hot, verbose=1)\n",
    "test_loss, test_accuracy = model.evaluate(X_test, y_test_one_hot, verbose=1)\n",
    "\n",
    "\n",
    "print(\"Val-Accuracy: %.2f%% (loss: %.4f)\" % (dev_accuracy*100, dev_loss))\n",
    "print(\"Test-Accuracy: %.2f%% (loss: %.4f)\" % (test_accuracy*100, test_loss))"
   ]
  },
  {
   "cell_type": "code",
   "execution_count": 91,
   "metadata": {},
   "outputs": [
    {
     "data": {
      "text/plain": [
       "Text(0.5,1,'Loss Curves')"
      ]
     },
     "execution_count": 91,
     "metadata": {},
     "output_type": "execute_result"
    },
    {
     "data": {
      "image/png": "[encoded data removed]",
      "text/plain": [
       "<Figure size 576x432 with 1 Axes>"
      ]
     },
     "metadata": {},
     "output_type": "display_data"
    }
   ],
   "source": [
    "#Training Loss and Validation Loss\n",
    "plt.figure(figsize=[8,6])\n",
    "plt.plot(trModel.history['loss'],'r',linewidth=3.0)\n",
    "plt.plot(trModel.history['val_loss'],'b',linewidth=3.0)\n",
    "plt.legend(['Training loss', 'Validation Loss'],fontsize=18)\n",
    "plt.xlabel('Epochs ',fontsize=16)\n",
    "plt.ylabel('Loss',fontsize=16)\n",
    "plt.title('Loss Curves',fontsize=16)"
   ]
  },
  {
   "cell_type": "code",
   "execution_count": 92,
   "metadata": {},
   "outputs": [
    {
     "data": {
      "text/plain": [
       "Text(0.5,1,'Accuracy Curves')"
      ]
     },
     "execution_count": 92,
     "metadata": {},
     "output_type": "execute_result"
    },
    {
     "data": {
      "image/png": "[encoded data removed]",
      "text/plain": [
       "<Figure size 576x432 with 1 Axes>"
      ]
     },
     "metadata": {},
     "output_type": "display_data"
    }
   ],
   "source": [
    "#Training Accuracy and Validation Accuracy\n",
    "plt.figure(figsize=[8,6])\n",
    "plt.plot(trModel.history['acc'],'r',linewidth=3.0)\n",
    "plt.plot(trModel.history['val_acc'],'b',linewidth=3.0)\n",
    "plt.legend(['Training Accuracy', 'Validation Accuracy'],fontsize=18)\n",
    "plt.xlabel('Epochs ',fontsize=16)\n",
    "plt.ylabel('Accuracy',fontsize=16)\n",
    "plt.title('Accuracy Curves',fontsize=16)"
   ]
  },
  {
   "cell_type": "code",
   "execution_count": 93,
   "metadata": {},
   "outputs": [],
   "source": [
    "preds = model.predict(X_test, batch_size=batch_size)"
   ]
  },
  {
   "cell_type": "code",
   "execution_count": 94,
   "metadata": {},
   "outputs": [
    {
     "data": {
      "text/plain": [
       "numpy.ndarray"
      ]
     },
     "execution_count": 94,
     "metadata": {},
     "output_type": "execute_result"
    }
   ],
   "source": [
    "type(preds)"
   ]
  },
  {
   "cell_type": "code",
   "execution_count": 95,
   "metadata": {},
   "outputs": [
    {
     "data": {
      "text/plain": [
       "array([   0,    0,    0,    0,    0,    0,    0,    0,    0,    0,    0,\n",
       "          0,    0,    0,    0,    0,    0,    0,    0,    0,    0,    0,\n",
       "          0,    0,    0,    0,    0,    0,    0,    0,    0,    0,    0,\n",
       "          0,    0,    0,    0,    0,    0,    0,    0,    0,    0,    0,\n",
       "          0,    0,    0,    0,    0,    0,    0,    0,    0,    0,    0,\n",
       "          0,    0,    0,    0,    0,    0,    0,    0,    0,    0,    0,\n",
       "          0,    0,    0,    0,    0,    0,    0,    0,    0,    0,    0,\n",
       "          0,    0,    0,    0,    0,    0,    0,    0,    0,    0,    0,\n",
       "          0,    0,    0,    0,    0,    0,    0,    0,    0,    0,    0,\n",
       "          0,    0,    0,    0,    0,    0,    0,    0,    0,    0,    0,\n",
       "          0,    0,    0,    0,    0,    0,    0,    0,    0,    0,    0,\n",
       "          0,    0,    0,    0,    0,    0,    0,    0,    0,    0,    0,\n",
       "          0,    0,    0,    0,    0,    0,    0,    0,    0,    0,    0,\n",
       "          0,    0,    0,    0,    0,    0,    0,    0,    0,    0,    0,\n",
       "          0,    0,    0,    0,    0,    0,    0,    0,    0,    0,    0,\n",
       "          0,    0,    0,    0,    0,    0,    0,    0,    0,    0,    0,\n",
       "          0,    0,    0,    0,    0,    0,    0,    0,    0,    0,    0,\n",
       "          0,    0,    0,    0,    0,    0,    0,    0,    0,    0,    0,\n",
       "          0,    0,    0,    0,    0,    0,    0,    0,    0,    0,    0,\n",
       "          0,    0,    0,    0,    0,    0,    0,    0,    0,    0,    0,\n",
       "          0,    0,    0,    0,    0,    0,    0,    0,    0,    0,    0,\n",
       "          0,    0,    0,    0,    0,    0,    0,    0,    0,    0,    0,\n",
       "          0,    0,    0,    0,    0,    0,    0,    0,    0,    0,    0,\n",
       "          0,    0,    0,    0,    0,    0,    0,    0,    0,    0,    0,\n",
       "          0,    0,    0,    0,    0,    0,    0,    0,    0,    0,    0,\n",
       "          0,    0,    0,    0,    0,    0,    0,    0,    0,    0,    0,\n",
       "          0,    0,    0,    0,    0,    0,    0,    0,    0,    0,    0,\n",
       "          0,    0,    0,    0,    0,    0,    0,    0,    0,    0,    0,\n",
       "          0,    0,    0,    0,    0,    0,    0,    0,    0,    0,    0,\n",
       "          0,    0,    0,    0,    0,    0,    0,    0,    0,    0,    0,\n",
       "          0,    0,    0,    0,    0,    0,    0,    0,    0,    0,    0,\n",
       "          0,    0,    0,    0,    0,    0,    0,    0,    0,    0,    0,\n",
       "          0,    0,    0,    0,    0,    0,    0,    0,    0,    0,    0,\n",
       "          0,    0,    0,    0,    0,    0,    0,    0,    0,    0,    0,\n",
       "          0,    0,    0,    0,    0,    0,    0,    0,    0,    0,    0,\n",
       "          0,    0,    0,    0,    0,    0,    0,    0,    0,    0,    0,\n",
       "          0,    0,    0,    0,    0,    0,    0,    0,    0,    0,    0,\n",
       "          0,    0,    0,    0,    0,    0,    0,    0,    0,    0,    0,\n",
       "          0,    0,    0,    0,    0,    0,    0,    0,    0,    0,    0,\n",
       "          0,    0,    0,    0,    0,    0,    0,    0,    0,    0,    0,\n",
       "          0,    0,    0,    0,    0,    0,    0,    0,    0,    0,    0,\n",
       "          0,    0,    0,    0,    0,    0,    0,    0,    0,    0,    0,\n",
       "          0,    0,    0,    0,    0,    0,    0,    0,    0,    0,    0,\n",
       "          0,    0,    0,    0,    0,    0,    0,    0,    0,    0,    0,\n",
       "          0,    0,    0,    0,    0,    0,    0,    0,    0,    0,    0,\n",
       "          0,    0,    0,    0,    0,    0,    0,    0,    0,    0,    0,\n",
       "          0,    0,    0,    0,    0,    0,    0,    0,    0,    0,    0,\n",
       "          0,    0,    0,    0,    0,    0,    0,    0,    0,    0,    0,\n",
       "          0,    0,    0,    0,    0,    0,    0,    0,    0,    0,    0,\n",
       "          0,    0,    0,    0,    0,   69,   26,  304,   14,  477, 5603,\n",
       "         12,  477, 1026,    5,    1, 4008,    1, 1975, 5141,  511,   21,\n",
       "        477, 4728,   14, 4335,   20,   34,  143,  604, 5563,    1, 3952,\n",
       "       1975,  113, 1455,  277,   26, 1331,    1,  113, 1048, 5227,  277,\n",
       "       1379,  892, 2133, 2006,    1,  892,  390, 3864,   32,   50,    6,\n",
       "       1317,   15,  303,    5, 1308,    2, 2133, 1193,  304,   45,    4,\n",
       "         11,    1,   44,   26, 4439,    7, 1130,    4,  198,   14,    2,\n",
       "       3747,   44,   45,   21,  892,    1,  304,   45,  144, 3395,  892,\n",
       "       2133, 2006, 1130,    8,    3,  892,  390, 3864,  132,   29,   30,\n",
       "        294,   28, 1193,    8,  366,   36, 1080,   14,  397, 2494,  277,\n",
       "        401, 1090,   12,    2,  604,  277,  148,    1,  155,   28,    1,\n",
       "       2118,  381,    8,  277,  304,  132,  748,    7, 1006, 3102,    4,\n",
       "        892,  390, 2903,    1, 3269, 1725,    2, 2903, 2325,  133,   14,\n",
       "          2, 2903,  577,   11,    1, 3269,    1, 5649,    8,  466,    6,\n",
       "       1317,  155,  277,   45,  173,    1,   84, 2169, 1576,  537, 3436])"
      ]
     },
     "execution_count": 95,
     "metadata": {},
     "output_type": "execute_result"
    }
   ],
   "source": [
    "X_test[0]"
   ]
  },
  {
   "cell_type": "code",
   "execution_count": 103,
   "metadata": {},
   "outputs": [
    {
     "data": {
      "text/plain": [
       "array([0.08259081, 0.04873534, 0.00399024, 0.00216934, 0.8625142 ],\n",
       "      dtype=float32)"
      ]
     },
     "execution_count": 103,
     "metadata": {},
     "output_type": "execute_result"
    }
   ],
   "source": [
    "preds[100]"
   ]
  },
  {
   "cell_type": "code",
   "execution_count": 104,
   "metadata": {},
   "outputs": [
    {
     "data": {
      "text/plain": [
       "array([0., 0., 0., 0., 1.], dtype=float32)"
      ]
     },
     "execution_count": 104,
     "metadata": {},
     "output_type": "execute_result"
    }
   ],
   "source": [
    "y_test_one_hot[100]"
   ]
  },
  {
   "cell_type": "code",
   "execution_count": 105,
   "metadata": {},
   "outputs": [],
   "source": [
    "model.save(\"C:/Users/Aravindhan.Poopathy/OneDrive - So Energy/Arav/Sentence_classic_new-master/Sentence_classic_new-master/code/soeMailData/soemailModels/classMailModel1.h5\")"
   ]
  },
  {
   "cell_type": "code",
   "execution_count": null,
   "metadata": {},
   "outputs": [],
   "source": []
  },
  {
   "cell_type": "code",
   "execution_count": null,
   "metadata": {},
   "outputs": [],
   "source": []
  },
  {
   "cell_type": "code",
   "execution_count": null,
   "metadata": {},
   "outputs": [],
   "source": []
  },
  {
   "cell_type": "code",
   "execution_count": 106,
   "metadata": {},
   "outputs": [],
   "source": [
    "from keras.models import load_model\n",
    "\n",
    "loadedModel = load_model(\"C:/Users/Aravindhan.Poopathy/OneDrive - So Energy/Arav/Sentence_classic_new-master/Sentence_classic_new-master/code/soeMailData/soemailModels/classMailModel1.h5\")"
   ]
  },
  {
   "cell_type": "code",
   "execution_count": 107,
   "metadata": {},
   "outputs": [
    {
     "name": "stdout",
     "output_type": "stream",
     "text": [
      "data loaded!\n"
     ]
    }
   ],
   "source": [
    "result_data = pkl.load(gzip.open(\"C:/Users/Aravindhan.Poopathy/OneDrive/Arav/Sentence_classic_new-master/Sentence_classic_new-master/code/pkl/resultdata.pkl.gz\",\"rb\"))\n",
    "print(\"data loaded!\")"
   ]
  },
  {
   "cell_type": "code",
   "execution_count": 108,
   "metadata": {},
   "outputs": [
    {
     "data": {
      "text/plain": [
       "[[110,\n",
       "  53,\n",
       "  585,\n",
       "  813,\n",
       "  5201,\n",
       "  14,\n",
       "  2,\n",
       "  1,\n",
       "  118,\n",
       "  1360,\n",
       "  1207,\n",
       "  9,\n",
       "  8,\n",
       "  813,\n",
       "  27,\n",
       "  11,\n",
       "  1,\n",
       "  61,\n",
       "  3068,\n",
       "  95,\n",
       "  585,\n",
       "  459,\n",
       "  1036,\n",
       "  984,\n",
       "  118,\n",
       "  5341,\n",
       "  9,\n",
       "  3576,\n",
       "  9,\n",
       "  2370,\n",
       "  19,\n",
       "  26,\n",
       "  657]]"
      ]
     },
     "execution_count": 108,
     "metadata": {},
     "output_type": "execute_result"
    }
   ],
   "source": [
    "result_data.tolist()"
   ]
  },
  {
   "cell_type": "code",
   "execution_count": 109,
   "metadata": {},
   "outputs": [],
   "source": [
    "result_X = sequence.pad_sequences(result_data, maxlen=max_sentence_len)\n",
    "# result_data.extend([0] * (59 - len(result_data)))"
   ]
  },
  {
   "cell_type": "code",
   "execution_count": 110,
   "metadata": {},
   "outputs": [
    {
     "data": {
      "text/plain": [
       "array([[   0,    0,    0,    0,    0,    0,    0,    0,    0,    0,    0,\n",
       "           0,    0,    0,    0,    0,    0,    0,    0,    0,    0,    0,\n",
       "           0,    0,    0,    0,    0,    0,    0,    0,    0,    0,    0,\n",
       "           0,    0,    0,    0,    0,    0,    0,    0,    0,    0,    0,\n",
       "           0,    0,    0,    0,    0,    0,    0,    0,    0,    0,    0,\n",
       "           0,    0,    0,    0,    0,    0,    0,    0,    0,    0,    0,\n",
       "           0,    0,    0,    0,    0,    0,    0,    0,    0,    0,    0,\n",
       "           0,    0,    0,    0,    0,    0,    0,    0,    0,    0,    0,\n",
       "           0,    0,    0,    0,    0,    0,    0,    0,    0,    0,    0,\n",
       "           0,    0,    0,    0,    0,    0,    0,    0,    0,    0,    0,\n",
       "           0,    0,    0,    0,    0,    0,    0,    0,    0,    0,    0,\n",
       "           0,    0,    0,    0,    0,    0,    0,    0,    0,    0,    0,\n",
       "           0,    0,    0,    0,    0,    0,    0,    0,    0,    0,    0,\n",
       "           0,    0,    0,    0,    0,    0,    0,    0,    0,    0,    0,\n",
       "           0,    0,    0,    0,    0,    0,    0,    0,    0,    0,    0,\n",
       "           0,    0,    0,    0,    0,    0,    0,    0,    0,    0,    0,\n",
       "           0,    0,    0,    0,    0,    0,    0,    0,    0,    0,    0,\n",
       "           0,    0,    0,    0,    0,    0,    0,    0,    0,    0,    0,\n",
       "           0,    0,    0,    0,    0,    0,    0,    0,    0,    0,    0,\n",
       "           0,    0,    0,    0,    0,    0,    0,    0,    0,    0,    0,\n",
       "           0,    0,    0,    0,    0,    0,    0,    0,    0,    0,    0,\n",
       "           0,    0,    0,    0,    0,    0,    0,    0,    0,    0,    0,\n",
       "           0,    0,    0,    0,    0,    0,    0,    0,    0,    0,    0,\n",
       "           0,    0,    0,    0,    0,    0,    0,    0,    0,    0,    0,\n",
       "           0,    0,    0,    0,    0,    0,    0,    0,    0,    0,    0,\n",
       "           0,    0,    0,    0,    0,    0,    0,    0,    0,    0,    0,\n",
       "           0,    0,    0,    0,    0,    0,    0,    0,    0,    0,    0,\n",
       "           0,    0,    0,    0,    0,    0,    0,    0,    0,    0,    0,\n",
       "           0,    0,    0,    0,    0,    0,    0,    0,    0,    0,    0,\n",
       "           0,    0,    0,    0,    0,    0,    0,    0,    0,    0,    0,\n",
       "           0,    0,    0,    0,    0,    0,    0,    0,    0,    0,    0,\n",
       "           0,    0,    0,    0,    0,    0,    0,    0,    0,    0,    0,\n",
       "           0,    0,    0,    0,    0,    0,    0,    0,    0,    0,    0,\n",
       "           0,    0,    0,    0,    0,    0,    0,    0,    0,    0,    0,\n",
       "           0,    0,    0,    0,    0,    0,    0,    0,    0,    0,    0,\n",
       "           0,    0,    0,    0,    0,    0,    0,    0,    0,    0,    0,\n",
       "           0,    0,    0,    0,    0,    0,    0,    0,    0,    0,    0,\n",
       "           0,    0,    0,    0,    0,    0,    0,    0,    0,    0,    0,\n",
       "           0,    0,    0,    0,    0,    0,    0,    0,    0,    0,    0,\n",
       "           0,    0,    0,    0,    0,    0,    0,    0,    0,    0,    0,\n",
       "           0,    0,    0,    0,    0,    0,    0,    0,    0,    0,    0,\n",
       "           0,    0,    0,    0,    0,    0,    0,    0,    0,    0,    0,\n",
       "           0,    0,    0,    0,    0,    0,    0,    0,    0,    0,    0,\n",
       "           0,    0,    0,    0,    0,    0,    0,    0,    0,    0,    0,\n",
       "           0,    0,    0,    0,    0,    0,    0,    0,    0,    0,    0,\n",
       "           0,    0,    0,    0,    0,    0,    0,    0,    0,    0,    0,\n",
       "           0,    0,    0,    0,    0,    0,    0,    0,    0,    0,    0,\n",
       "           0,    0,    0,    0,    0,    0,    0,    0,    0,    0,    0,\n",
       "           0,    0,    0,    0,    0,    0,    0,    0,    0,    0,    0,\n",
       "           0,    0,    0,    0,    0,    0,    0,    0,    0,    0,    0,\n",
       "           0,    0,    0,    0,    0,    0,    0,    0,    0,    0,    0,\n",
       "           0,    0,    0,    0,    0,    0,    0,    0,    0,    0,    0,\n",
       "           0,    0,    0,    0,    0,    0,    0,    0,    0,    0,    0,\n",
       "           0,    0,    0,    0,    0,    0,    0,    0,    0,    0,    0,\n",
       "           0,    0,    0,    0,    0,    0,    0,    0,    0,    0,    0,\n",
       "           0,    0,    0,    0,    0,    0,    0,    0,    0,    0,    0,\n",
       "           0,    0,    0,    0,    0,    0,    0,    0,    0,    0,    0,\n",
       "           0,    0,    0,    0,    0,    0,    0,    0,    0,    0,    0,\n",
       "           0,    0,    0,    0,    0,    0,    0,    0,    0,    0,    0,\n",
       "           0,    0,    0,    0,    0,    0,    0,    0,    0,    0,    0,\n",
       "           0,    0,    0,    0,    0,    0,    0,    0,    0,    0,    0,\n",
       "         110,   53,  585,  813, 5201,   14,    2,    1,  118, 1360, 1207,\n",
       "           9,    8,  813,   27,   11,    1,   61, 3068,   95,  585,  459,\n",
       "        1036,  984,  118, 5341,    9, 3576,    9, 2370,   19,   26,  657]])"
      ]
     },
     "execution_count": 110,
     "metadata": {},
     "output_type": "execute_result"
    }
   ],
   "source": [
    "result_X"
   ]
  },
  {
   "cell_type": "code",
   "execution_count": 111,
   "metadata": {},
   "outputs": [],
   "source": [
    "result_y_pred = loadedModel.predict(result_X, batch_size=batch_size)"
   ]
  },
  {
   "cell_type": "code",
   "execution_count": 112,
   "metadata": {},
   "outputs": [
    {
     "data": {
      "text/plain": [
       "array([0.15074295, 0.25583375, 0.56165683, 0.02903   , 0.00273646],\n",
       "      dtype=float32)"
      ]
     },
     "execution_count": 112,
     "metadata": {},
     "output_type": "execute_result"
    }
   ],
   "source": [
    "result_y_pred.ravel()"
   ]
  },
  {
   "cell_type": "code",
   "execution_count": null,
   "metadata": {},
   "outputs": [],
   "source": []
  }
 ],
 "metadata": {
  "kernelspec": {
   "display_name": "Python 3",
   "language": "python",
   "name": "python3"
  },
  "language_info": {
   "codemirror_mode": {
    "name": "ipython",
    "version": 3
   },
   "file_extension": ".py",
   "mimetype": "text/x-python",
   "name": "python",
   "nbconvert_exporter": "python",
   "pygments_lexer": "ipython3",
   "version": "3.6.5"
  }
 },
 "nbformat": 4,
 "nbformat_minor": 2
}
